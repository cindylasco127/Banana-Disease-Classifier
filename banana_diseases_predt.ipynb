{
  "nbformat": 4,
  "nbformat_minor": 0,
  "metadata": {
    "colab": {
      "name": "banana-diseases-predt.ipynb",
      "provenance": [],
      "collapsed_sections": []
    },
    "kernelspec": {
      "name": "python3",
      "display_name": "Python 3"
    },
    "language_info": {
      "name": "python"
    }
  },
  "cells": [
    {
      "cell_type": "code",
      "execution_count": null,
      "metadata": {
        "id": "inviwJP8Hb7t",
        "colab": {
          "base_uri": "https://localhost:8080/"
        },
        "outputId": "7cbd9ded-1013-48d3-cb69-2183ca295602"
      },
      "outputs": [
        {
          "output_type": "stream",
          "name": "stdout",
          "text": [
            "Drive already mounted at /content/drive; to attempt to forcibly remount, call drive.mount(\"/content/drive\", force_remount=True).\n"
          ]
        }
      ],
      "source": [
        "from google.colab import drive\n",
        "drive.mount('/content/drive')"
      ]
    },
    {
      "cell_type": "code",
      "source": [
        "#import required libraries — we do need the models, flatten, dense, input layers \n",
        "import numpy as np \n",
        "import pandas as pd\n",
        "import os\n",
        "import tensorflow as tf\n",
        "\n",
        "from tensorflow import keras\n",
        "from glob import glob \n",
        "import matplotlib.pyplot as plt\n",
        "from tensorflow.keras.layers import Input, Lambda, Dense, Flatten\n",
        "from tensorflow.keras.models import Model\n",
        "from tensorflow.keras.applications.vgg16 import VGG16\n",
        "from tensorflow.keras.applications.vgg19 import VGG19\n",
        "from tensorflow.keras.preprocessing import image\n",
        "from tensorflow.keras.preprocessing.image import ImageDataGenerator\n",
        "from tensorflow.keras.models import Sequential"
      ],
      "metadata": {
        "id": "01zTCZxeHg74"
      },
      "execution_count": null,
      "outputs": []
    },
    {
      "cell_type": "code",
      "source": [
        "# Path for train, validation and test datasets\n",
        "train_path = '/content/drive/MyDrive/MIT-Project/Datasets/banana-diseases-dataset/train'\n",
        "valid_path = '/content/drive/MyDrive/MIT-Project/Datasets/banana-diseases-dataset/val'\n",
        "test_path = '/content/drive/MyDrive/MIT-Project/Datasets/banana-diseases-dataset/test'\n",
        "IMAGE_SIZE = [224, 224] #Default image size for VGG16\n",
        "folders = glob('/content/drive/MyDrive/MIT-Project/Datasets/banana-diseases-dataset/train/*') #Get number of classes"
      ],
      "metadata": {
        "id": "_zn3dQMMHklR"
      },
      "execution_count": null,
      "outputs": []
    },
    {
      "cell_type": "code",
      "source": [
        "# Check contents of the training dataset folder\n",
        "!ls \"/content/drive/MyDrive/MIT-Project/Datasets/banana-diseases-dataset/train/\""
      ],
      "metadata": {
        "id": "QQq9dk6Nd2kW",
        "colab": {
          "base_uri": "https://localhost:8080/"
        },
        "outputId": "e2137f9b-bdee-4280-bfce-0be7dee15738"
      },
      "execution_count": null,
      "outputs": [
        {
          "output_type": "stream",
          "name": "stdout",
          "text": [
            "bunchy-top  fusarium-wilt  healthy  moko  sigatoka\n"
          ]
        }
      ]
    },
    {
      "cell_type": "code",
      "source": [
        "# ImageDataGenerator can help perform augumentation on existing images. This way, we get more diverse train set.\n",
        "train_datagen = ImageDataGenerator(\n",
        "    rescale = 1./255, \n",
        "    shear_range = 0.2, \n",
        "    zoom_range = 0.3,\n",
        "    rotation_range = 15.,\n",
        "    horizontal_flip = True)\n",
        "validation_datagen = ImageDataGenerator(\n",
        "    rescale = 1./255)\n",
        "test_datagen = ImageDataGenerator(\n",
        "    rescale = 1./255)"
      ],
      "metadata": {
        "id": "r6QRoiXBXrPj"
      },
      "execution_count": null,
      "outputs": []
    },
    {
      "cell_type": "code",
      "source": [
        "#Through flow_from_directory - we create an array of images that can be used for training. \n",
        "training_set = train_datagen.flow_from_directory(\n",
        "'/content/drive/MyDrive/MIT-Project/Datasets/banana-diseases-dataset/train',\n",
        "    target_size = (224, 224),\n",
        "    batch_size = 64,\n",
        "    class_mode = 'categorical')\n",
        "validation_set = validation_datagen.flow_from_directory('/content/drive/MyDrive/MIT-Project/Datasets/banana-diseases-dataset/val',\n",
        "    target_size = (224, 224),\n",
        "    batch_size = 64,\n",
        "    class_mode = 'categorical')\n",
        "test_set = test_datagen.flow_from_directory('/content/drive/MyDrive/MIT-Project/Datasets/banana-diseases-dataset/test',\n",
        "    target_size = (224, 224),\n",
        "    batch_size = 32,\n",
        "    class_mode = 'categorical')"
      ],
      "metadata": {
        "id": "m19wcs2nX4P6",
        "colab": {
          "base_uri": "https://localhost:8080/"
        },
        "outputId": "bc36df18-346e-4fce-87c3-42c2371172b7"
      },
      "execution_count": null,
      "outputs": [
        {
          "output_type": "stream",
          "name": "stdout",
          "text": [
            "Found 2400 images belonging to 5 classes.\n",
            "Found 307 images belonging to 5 classes.\n",
            "Found 300 images belonging to 5 classes.\n"
          ]
        }
      ]
    },
    {
      "cell_type": "code",
      "source": [
        "# Create a VGG16 model, and removing the last layer that is classifying 1000 images. This will be replaced with images classes we have. \n",
        "# vgg = VGG16(input_shape=IMAGE_SIZE + [3], weights='imagenet', include_top=False) #Training with Imagenet weights\n",
        "# Use this line for VGG19 network. Create a VGG19 model, and removing the last layer that is classifying 1000 images. This will be replaced with images classes we have. \n",
        "vgg = VGG19(input_shape=IMAGE_SIZE + [3], weights='imagenet', include_top=False)\n",
        "# This sets the base that the layers are not trainable. If we'd want to train the layers with custom data, these two lines can be ommitted. \n",
        "for layer in vgg.layers:\n",
        "  layer.trainable = False\n",
        "x = Flatten()(vgg.output) #Output obtained on vgg16 is now flattened. \n",
        "prediction = Dense(len(folders), activation='softmax')(x) # We have 5 classes, and so, the prediction is being done on len(folders) - 5 classes\n",
        "#Creating model object \n",
        "model = Model(inputs=vgg.input, outputs=prediction)\n",
        "model.summary()"
      ],
      "metadata": {
        "id": "pgJe1NcBHn6R",
        "colab": {
          "base_uri": "https://localhost:8080/"
        },
        "outputId": "9c07cbcc-74ed-4bca-ba64-9a0245ab28e5"
      },
      "execution_count": null,
      "outputs": [
        {
          "output_type": "stream",
          "name": "stdout",
          "text": [
            "Downloading data from https://storage.googleapis.com/tensorflow/keras-applications/vgg19/vgg19_weights_tf_dim_ordering_tf_kernels_notop.h5\n",
            "80142336/80134624 [==============================] - 0s 0us/step\n",
            "80150528/80134624 [==============================] - 0s 0us/step\n",
            "Model: \"model\"\n",
            "_________________________________________________________________\n",
            " Layer (type)                Output Shape              Param #   \n",
            "=================================================================\n",
            " input_1 (InputLayer)        [(None, 224, 224, 3)]     0         \n",
            "                                                                 \n",
            " block1_conv1 (Conv2D)       (None, 224, 224, 64)      1792      \n",
            "                                                                 \n",
            " block1_conv2 (Conv2D)       (None, 224, 224, 64)      36928     \n",
            "                                                                 \n",
            " block1_pool (MaxPooling2D)  (None, 112, 112, 64)      0         \n",
            "                                                                 \n",
            " block2_conv1 (Conv2D)       (None, 112, 112, 128)     73856     \n",
            "                                                                 \n",
            " block2_conv2 (Conv2D)       (None, 112, 112, 128)     147584    \n",
            "                                                                 \n",
            " block2_pool (MaxPooling2D)  (None, 56, 56, 128)       0         \n",
            "                                                                 \n",
            " block3_conv1 (Conv2D)       (None, 56, 56, 256)       295168    \n",
            "                                                                 \n",
            " block3_conv2 (Conv2D)       (None, 56, 56, 256)       590080    \n",
            "                                                                 \n",
            " block3_conv3 (Conv2D)       (None, 56, 56, 256)       590080    \n",
            "                                                                 \n",
            " block3_conv4 (Conv2D)       (None, 56, 56, 256)       590080    \n",
            "                                                                 \n",
            " block3_pool (MaxPooling2D)  (None, 28, 28, 256)       0         \n",
            "                                                                 \n",
            " block4_conv1 (Conv2D)       (None, 28, 28, 512)       1180160   \n",
            "                                                                 \n",
            " block4_conv2 (Conv2D)       (None, 28, 28, 512)       2359808   \n",
            "                                                                 \n",
            " block4_conv3 (Conv2D)       (None, 28, 28, 512)       2359808   \n",
            "                                                                 \n",
            " block4_conv4 (Conv2D)       (None, 28, 28, 512)       2359808   \n",
            "                                                                 \n",
            " block4_pool (MaxPooling2D)  (None, 14, 14, 512)       0         \n",
            "                                                                 \n",
            " block5_conv1 (Conv2D)       (None, 14, 14, 512)       2359808   \n",
            "                                                                 \n",
            " block5_conv2 (Conv2D)       (None, 14, 14, 512)       2359808   \n",
            "                                                                 \n",
            " block5_conv3 (Conv2D)       (None, 14, 14, 512)       2359808   \n",
            "                                                                 \n",
            " block5_conv4 (Conv2D)       (None, 14, 14, 512)       2359808   \n",
            "                                                                 \n",
            " block5_pool (MaxPooling2D)  (None, 7, 7, 512)         0         \n",
            "                                                                 \n",
            " flatten (Flatten)           (None, 25088)             0         \n",
            "                                                                 \n",
            " dense (Dense)               (None, 5)                 125445    \n",
            "                                                                 \n",
            "=================================================================\n",
            "Total params: 20,149,829\n",
            "Trainable params: 125,445\n",
            "Non-trainable params: 20,024,384\n",
            "_________________________________________________________________\n"
          ]
        }
      ]
    },
    {
      "cell_type": "code",
      "source": [
        "#Compile the model \n",
        "model.compile(loss='categorical_crossentropy', optimizer='adam', metrics=['accuracy']) \n",
        "history = model.fit(training_set, validation_data=validation_set, epochs=20, batch_size=32)"
      ],
      "metadata": {
        "id": "cDOo7RS_HqtB",
        "colab": {
          "base_uri": "https://localhost:8080/"
        },
        "outputId": "bb6a1ec3-f835-455c-a860-6f5a16978609"
      },
      "execution_count": null,
      "outputs": [
        {
          "output_type": "stream",
          "name": "stdout",
          "text": [
            "Epoch 1/20\n",
            "38/38 [==============================] - 1806s 47s/step - loss: 1.1425 - accuracy: 0.6196 - val_loss: 0.7039 - val_accuracy: 0.7557\n",
            "Epoch 2/20\n",
            "38/38 [==============================] - 1750s 46s/step - loss: 0.4926 - accuracy: 0.8254 - val_loss: 0.6779 - val_accuracy: 0.7590\n",
            "Epoch 3/20\n",
            "38/38 [==============================] - 1746s 46s/step - loss: 0.3950 - accuracy: 0.8642 - val_loss: 0.7299 - val_accuracy: 0.7557\n",
            "Epoch 4/20\n",
            "38/38 [==============================] - 1739s 46s/step - loss: 0.3560 - accuracy: 0.8729 - val_loss: 0.6922 - val_accuracy: 0.7655\n",
            "Epoch 5/20\n",
            "38/38 [==============================] - 1738s 46s/step - loss: 0.3832 - accuracy: 0.8633 - val_loss: 0.7028 - val_accuracy: 0.7655\n",
            "Epoch 6/20\n",
            "38/38 [==============================] - 1731s 46s/step - loss: 0.3104 - accuracy: 0.8896 - val_loss: 0.6870 - val_accuracy: 0.7557\n",
            "Epoch 7/20\n",
            "38/38 [==============================] - 1740s 46s/step - loss: 0.2948 - accuracy: 0.8979 - val_loss: 0.6982 - val_accuracy: 0.7655\n",
            "Epoch 8/20\n",
            "38/38 [==============================] - 1754s 46s/step - loss: 0.2596 - accuracy: 0.9075 - val_loss: 0.6755 - val_accuracy: 0.7850\n",
            "Epoch 9/20\n",
            "38/38 [==============================] - 1765s 46s/step - loss: 0.2223 - accuracy: 0.9258 - val_loss: 0.6935 - val_accuracy: 0.7590\n",
            "Epoch 10/20\n",
            "38/38 [==============================] - 1736s 46s/step - loss: 0.2271 - accuracy: 0.9233 - val_loss: 0.7911 - val_accuracy: 0.7329\n",
            "Epoch 11/20\n",
            "38/38 [==============================] - 1746s 46s/step - loss: 0.2451 - accuracy: 0.9042 - val_loss: 0.7950 - val_accuracy: 0.7329\n",
            "Epoch 12/20\n",
            "38/38 [==============================] - 1756s 46s/step - loss: 0.2168 - accuracy: 0.9187 - val_loss: 0.7718 - val_accuracy: 0.7492\n",
            "Epoch 13/20\n",
            "38/38 [==============================] - 1751s 46s/step - loss: 0.1919 - accuracy: 0.9325 - val_loss: 0.7845 - val_accuracy: 0.7557\n",
            "Epoch 14/20\n",
            "38/38 [==============================] - 1749s 46s/step - loss: 0.1884 - accuracy: 0.9388 - val_loss: 0.7907 - val_accuracy: 0.7524\n",
            "Epoch 15/20\n",
            "38/38 [==============================] - 1773s 47s/step - loss: 0.1605 - accuracy: 0.9446 - val_loss: 0.8688 - val_accuracy: 0.7329\n",
            "Epoch 16/20\n",
            "38/38 [==============================] - 1750s 46s/step - loss: 0.1644 - accuracy: 0.9429 - val_loss: 0.7360 - val_accuracy: 0.7590\n",
            "Epoch 17/20\n",
            "38/38 [==============================] - 1773s 47s/step - loss: 0.1485 - accuracy: 0.9529 - val_loss: 0.7040 - val_accuracy: 0.7850\n",
            "Epoch 18/20\n",
            "38/38 [==============================] - 1790s 47s/step - loss: 0.1469 - accuracy: 0.9508 - val_loss: 0.7987 - val_accuracy: 0.7590\n",
            "Epoch 19/20\n",
            "38/38 [==============================] - 1768s 47s/step - loss: 0.1549 - accuracy: 0.9475 - val_loss: 0.9141 - val_accuracy: 0.7427\n",
            "Epoch 20/20\n",
            "38/38 [==============================] - 1777s 47s/step - loss: 0.1636 - accuracy: 0.9429 - val_loss: 0.7609 - val_accuracy: 0.7590\n"
          ]
        }
      ]
    },
    {
      "cell_type": "code",
      "source": [
        "# loss\n",
        "plt.plot(history.history['loss'], label='Training Loss')\n",
        "plt.plot(history.history['val_loss'], label='Validation Loss')\n",
        "plt.legend()\n",
        "plt.title('VGG 19 Model Training and Validation Loss')\n",
        "plt.show()\n",
        " \n",
        "# accuracies\n",
        "plt.plot(history.history['accuracy'], label='Training Accuracy')\n",
        "plt.plot(history.history['val_accuracy'], label='Validation Accuracy')\n",
        "plt.legend()\n",
        "plt.title('VGG 19 Model Training and Validation Accuracy')\n",
        "plt.show()"
      ],
      "metadata": {
        "id": "2Vk3_epYHtBh",
        "colab": {
          "base_uri": "https://localhost:8080/",
          "height": 545
        },
        "outputId": "c54f7f92-532b-4b63-91a9-e8de26618cd2"
      },
      "execution_count": null,
      "outputs": [
        {
          "output_type": "display_data",
          "data": {
            "text/plain": [
              "<Figure size 432x288 with 1 Axes>"
            ],
            "image/png": "[encoded data removed]"
          },
          "metadata": {
            "needs_background": "light"
          }
        },
        {
          "output_type": "display_data",
          "data": {
            "text/plain": [
              "<Figure size 432x288 with 1 Axes>"
            ],
            "image/png": "[encoded data removed]"
          },
          "metadata": {
            "needs_background": "light"
          }
        }
      ]
    },
    {
      "cell_type": "code",
      "source": [
        "#acc = history.history['accuracy']\n",
        "#val_acc = history.history['val_accuracy']\n",
        "\n",
        "#loss = history.history['loss']\n",
        "#val_loss = history.history['val_loss']\n",
        "\n",
        "#epochs_range = range(epochs)\n",
        "\n",
        "#plt.figure(figsize=(8, 8))\n",
        "#plt.subplot(1, 2, 1)\n",
        "#plt.plot(epochs_range, acc, label='Training Accuracy')\n",
        "#plt.plot(epochs_range, val_acc, label='Validation Accuracy')\n",
        "#plt.legend(loc='lower right')\n",
        "#plt.title('Training and Validation Accuracy')\n",
        "\n",
        "#plt.subplot(1, 2, 2)\n",
        "#plt.plot(epochs_range, loss, label='Training Loss')\n",
        "#plt.plot(epochs_range, val_loss, label='Validation Loss')\n",
        "#plt.legend(loc='upper right')\n",
        "#plt.title('Training and Validation Loss')\n",
        "#plt.show()"
      ],
      "metadata": {
        "id": "U_CzG5rlyax-"
      },
      "execution_count": null,
      "outputs": []
    },
    {
      "cell_type": "code",
      "source": [
        "from tensorflow.keras.models import load_model\n",
        "model.save('/content/drive/MyDrive/MIT-Project/classify-vgg19-model-final.h5')"
      ],
      "metadata": {
        "id": "-Ebl6epIHvCR"
      },
      "execution_count": null,
      "outputs": []
    }
  ]
}